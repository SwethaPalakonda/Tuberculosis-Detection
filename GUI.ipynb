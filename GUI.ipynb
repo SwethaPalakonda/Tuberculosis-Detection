{
 "cells": [
  {
   "cell_type": "code",
   "execution_count": 11,
   "id": "21a070ad-cdb3-4055-8cf4-b4cbed4200ba",
   "metadata": {},
   "outputs": [],
   "source": [
    "import tensorflow as tf\n",
    "import numpy as np\n",
    "import os\n",
    "from tensorflow.keras.preprocessing import image\n",
    "from PIL import Image, ImageTk\n",
    "import tkinter as tk\n",
    "from tkinter import filedialog, Label, Button, Canvas, Frame"
   ]
  },
  {
   "cell_type": "code",
   "execution_count": 12,
   "id": "4d83a53b-60fc-414b-8cde-1813ae8b7cfc",
   "metadata": {},
   "outputs": [
    {
     "name": "stderr",
     "output_type": "stream",
     "text": [
      "WARNING:absl:Compiled the loaded model, but the compiled metrics have yet to be built. `model.compile_metrics` will be empty until you train or evaluate the model.\n"
     ]
    }
   ],
   "source": [
    "# Load trained model\n",
    "model = tf.keras.models.load_model(\"tb_detection_mobilenetv2.h5\")"
   ]
  },
  {
   "cell_type": "code",
   "execution_count": 13,
   "id": "73d9b1fd-8024-48d2-9187-cf711accc6b8",
   "metadata": {},
   "outputs": [],
   "source": [
    "# Set default image paths (update with actual paths)\n",
    "BG_IMAGE_MAIN = r\"background.jpeg\"\n",
    "BG_IMAGE_PRED = r\"bg-2.jpeg\""
   ]
  },
  {
   "cell_type": "code",
   "execution_count": 14,
   "id": "415c2900-1aa2-4219-b1c8-bac5f301c834",
   "metadata": {},
   "outputs": [],
   "source": [
    "class TBDetectionApp:\n",
    "    def __init__(self):\n",
    "        self.root = tk.Tk()\n",
    "        self.root.title(\"TB Detection System\")\n",
    "        self.root.geometry(\"900x600\")\n",
    "\n",
    "        # Load and display background image for main window\n",
    "        if os.path.exists(BG_IMAGE_MAIN):\n",
    "            self.bg_main = Image.open(BG_IMAGE_MAIN).resize((900, 600))\n",
    "            self.bg_main_photo = ImageTk.PhotoImage(self.bg_main)\n",
    "            \n",
    "            self.canvas = Canvas(self.root, width=900, height=600)\n",
    "            self.canvas.pack(fill=\"both\", expand=True)\n",
    "            self.canvas.create_image(0, 0, image=self.bg_main_photo, anchor=\"nw\")\n",
    "\n",
    "            # Prevent garbage collection\n",
    "            self.root.bg_main_photo = self.bg_main_photo\n",
    "        else:\n",
    "            print(\"Error: Background image for main window not found!\")\n",
    "\n",
    "        # Frame for buttons\n",
    "        frame = Frame(self.root, bg=\"white\", padx=20, pady=20)\n",
    "        frame.place(relx=0.5, rely=0.5, anchor=\"center\")\n",
    "\n",
    "        Label(frame, text=\"TB Detection System\", font=(\"Arial\", 20, \"bold\"), bg=\"white\", fg=\"#333\").pack(pady=20)\n",
    "        Button(frame, text=\"Predict TB\", command=self.open_prediction_window, font=(\"Arial\", 14),\n",
    "               bg=\"#4CAF50\", fg=\"white\", padx=20, pady=10).pack(pady=10)\n",
    "        Button(frame, text=\"Exit\", command=self.root.quit, font=(\"Arial\", 14),\n",
    "               bg=\"#f44336\", fg=\"white\", padx=20, pady=10).pack(pady=10)\n",
    "\n",
    "        self.root.mainloop()\n"
   ]
  },
  {
   "cell_type": "code",
   "execution_count": 15,
   "id": "a8785a57-6022-43f7-9997-63390afb208d",
   "metadata": {},
   "outputs": [],
   "source": [
    "def open_prediction_window(self):\n",
    "        self.root.withdraw()  # Hide main window\n",
    "        self.pred_root = tk.Toplevel()\n",
    "        self.pred_root.title(\"TB Detection - Prediction\")\n",
    "        self.pred_root.geometry(\"900x600\")\n",
    "\n",
    "        # Load and display background image for second window\n",
    "        if os.path.exists(BG_IMAGE_PRED):\n",
    "            self.bg_pred = Image.open(BG_IMAGE_PRED).resize((900, 600))\n",
    "            self.bg_pred_photo = ImageTk.PhotoImage(self.bg_pred)\n",
    "            \n",
    "            self.canvas_pred = Canvas(self.pred_root, width=900, height=600)\n",
    "            self.canvas_pred.pack(fill=\"both\", expand=True)\n",
    "            self.canvas_pred.create_image(0, 0, image=self.bg_pred_photo, anchor=\"nw\")\n",
    "\n",
    "            # Prevent garbage collection\n",
    "            self.pred_root.bg_pred_photo = self.bg_pred_photo\n",
    "        else:\n",
    "            print(\"Error: Background image for second window not found!\")\n",
    "\n",
    "        # Frame for Upload & Prediction\n",
    "        frame = Frame(self.pred_root, bg=\"white\", padx=20, pady=20)\n",
    "        frame.place(relx=0.5, rely=0.5, anchor=\"center\")\n",
    "\n",
    "        Button(frame, text=\"Upload X-Ray\", command=self.predict_tb, font=(\"Arial\", 14),\n",
    "               bg=\"#4CAF50\", fg=\"white\", padx=20, pady=10).pack(pady=10)\n",
    "\n",
    "        self.image_label = Label(frame, bg=\"white\")\n",
    "        self.image_label.pack()\n",
    "\n",
    "        self.result_label = Label(frame, text=\"Prediction: \", font=(\"Arial\", 16, \"bold\"), bg=\"white\", fg=\"#333\")\n",
    "        self.result_label.pack(pady=20)\n",
    "\n",
    "        Button(frame, text=\"Back\", command=self.go_back, font=(\"Arial\", 14),\n",
    "               bg=\"#FFA500\", fg=\"white\", padx=20, pady=10).pack(pady=10)\n",
    "        Button(frame, text=\"Exit\", command=self.pred_root.destroy, font=(\"Arial\", 14),\n",
    "               bg=\"#f44336\", fg=\"white\", padx=20, pady=10).pack(pady=10)\n"
   ]
  },
  {
   "cell_type": "code",
   "execution_count": 16,
   "id": "c45496c8-7352-4d38-8498-10c1e8528152",
   "metadata": {},
   "outputs": [],
   "source": [
    "def go_back(self):\n",
    "        self.pred_root.destroy()\n",
    "        self.root.deiconify()  # Show main window again"
   ]
  },
  {
   "cell_type": "code",
   "execution_count": 17,
   "id": "95b9a104-8d14-436c-a1f8-68859d307a7e",
   "metadata": {},
   "outputs": [],
   "source": [
    "def predict_tb(self):\n",
    "        file_path = filedialog.askopenfilename(title=\"Select Chest X-Ray Image\", filetypes=[(\"Image files\", \"*.jpg;*.jpeg;*.png\")])\n",
    "        if not file_path:\n",
    "            return\n",
    "\n",
    "        img = self.preprocess_image(file_path)\n",
    "        prediction = model.predict(img)\n",
    "        confidence = prediction[0][0] * 100\n",
    "\n",
    "        result_text = f\"TB Detected ({confidence:.2f}%)\" if prediction[0][0] > 0.5 else f\"Normal ({100 - confidence:.2f}%)\"\n",
    "        self.result_label.config(text=f\"Prediction: {result_text}\", fg=\"#FF0000\" if prediction[0][0] > 0.5 else \"#008000\")\n",
    "\n",
    "        self.display_image(file_path)"
   ]
  },
  {
   "cell_type": "code",
   "execution_count": 18,
   "id": "8f4fd0c0-abea-418d-9f84-8e506167a706",
   "metadata": {},
   "outputs": [],
   "source": [
    "def preprocess_image(self, img_path):\n",
    "        img = Image.open(img_path).convert(\"RGB\")\n",
    "        img = img.resize((224, 224))\n",
    "        img = np.array(img) / 255.0\n",
    "        img = np.expand_dims(img, axis=0)\n",
    "        return img"
   ]
  },
  {
   "cell_type": "code",
   "execution_count": 19,
   "id": "7dbb8a13-9644-46f4-8ac9-326dc6bd518c",
   "metadata": {},
   "outputs": [],
   "source": [
    "def display_image(self, img_path):\n",
    "        img = Image.open(img_path).resize((300, 300))\n",
    "        img = ImageTk.PhotoImage(img)\n",
    "        self.image_label.config(image=img)\n",
    "        self.image_label.image = img"
   ]
  },
  {
   "cell_type": "code",
   "execution_count": 21,
   "id": "9ac1df5b-d585-4b1f-9a74-7934ba75d8b7",
   "metadata": {},
   "outputs": [
    {
     "ename": "TclError",
     "evalue": "image \"pyimage3\" doesn't exist",
     "output_type": "error",
     "traceback": [
      "\u001b[1;31m---------------------------------------------------------------------------\u001b[0m",
      "\u001b[1;31mTclError\u001b[0m                                  Traceback (most recent call last)",
      "Cell \u001b[1;32mIn[21], line 2\u001b[0m\n\u001b[0;32m      1\u001b[0m \u001b[38;5;28;01mif\u001b[39;00m \u001b[38;5;18m__name__\u001b[39m \u001b[38;5;241m==\u001b[39m \u001b[38;5;124m\"\u001b[39m\u001b[38;5;124m__main__\u001b[39m\u001b[38;5;124m\"\u001b[39m:\n\u001b[1;32m----> 2\u001b[0m     TBDetectionApp()\n",
      "Cell \u001b[1;32mIn[14], line 14\u001b[0m, in \u001b[0;36mTBDetectionApp.__init__\u001b[1;34m(self)\u001b[0m\n\u001b[0;32m     12\u001b[0m \u001b[38;5;28mself\u001b[39m\u001b[38;5;241m.\u001b[39mcanvas \u001b[38;5;241m=\u001b[39m Canvas(\u001b[38;5;28mself\u001b[39m\u001b[38;5;241m.\u001b[39mroot, width\u001b[38;5;241m=\u001b[39m\u001b[38;5;241m900\u001b[39m, height\u001b[38;5;241m=\u001b[39m\u001b[38;5;241m600\u001b[39m)\n\u001b[0;32m     13\u001b[0m \u001b[38;5;28mself\u001b[39m\u001b[38;5;241m.\u001b[39mcanvas\u001b[38;5;241m.\u001b[39mpack(fill\u001b[38;5;241m=\u001b[39m\u001b[38;5;124m\"\u001b[39m\u001b[38;5;124mboth\u001b[39m\u001b[38;5;124m\"\u001b[39m, expand\u001b[38;5;241m=\u001b[39m\u001b[38;5;28;01mTrue\u001b[39;00m)\n\u001b[1;32m---> 14\u001b[0m \u001b[38;5;28mself\u001b[39m\u001b[38;5;241m.\u001b[39mcanvas\u001b[38;5;241m.\u001b[39mcreate_image(\u001b[38;5;241m0\u001b[39m, \u001b[38;5;241m0\u001b[39m, image\u001b[38;5;241m=\u001b[39m\u001b[38;5;28mself\u001b[39m\u001b[38;5;241m.\u001b[39mbg_main_photo, anchor\u001b[38;5;241m=\u001b[39m\u001b[38;5;124m\"\u001b[39m\u001b[38;5;124mnw\u001b[39m\u001b[38;5;124m\"\u001b[39m)\n\u001b[0;32m     16\u001b[0m \u001b[38;5;66;03m# Prevent garbage collection\u001b[39;00m\n\u001b[0;32m     17\u001b[0m \u001b[38;5;28mself\u001b[39m\u001b[38;5;241m.\u001b[39mroot\u001b[38;5;241m.\u001b[39mbg_main_photo \u001b[38;5;241m=\u001b[39m \u001b[38;5;28mself\u001b[39m\u001b[38;5;241m.\u001b[39mbg_main_photo\n",
      "File \u001b[1;32m~\\.software\\MajorProject\\Lib\\tkinter\\__init__.py:2875\u001b[0m, in \u001b[0;36mCanvas.create_image\u001b[1;34m(self, *args, **kw)\u001b[0m\n\u001b[0;32m   2873\u001b[0m \u001b[38;5;28;01mdef\u001b[39;00m \u001b[38;5;21mcreate_image\u001b[39m(\u001b[38;5;28mself\u001b[39m, \u001b[38;5;241m*\u001b[39margs, \u001b[38;5;241m*\u001b[39m\u001b[38;5;241m*\u001b[39mkw):\n\u001b[0;32m   2874\u001b[0m \u001b[38;5;250m    \u001b[39m\u001b[38;5;124;03m\"\"\"Create image item with coordinates x1,y1.\"\"\"\u001b[39;00m\n\u001b[1;32m-> 2875\u001b[0m     \u001b[38;5;28;01mreturn\u001b[39;00m \u001b[38;5;28mself\u001b[39m\u001b[38;5;241m.\u001b[39m_create(\u001b[38;5;124m'\u001b[39m\u001b[38;5;124mimage\u001b[39m\u001b[38;5;124m'\u001b[39m, args, kw)\n",
      "File \u001b[1;32m~\\.software\\MajorProject\\Lib\\tkinter\\__init__.py:2861\u001b[0m, in \u001b[0;36mCanvas._create\u001b[1;34m(self, itemType, args, kw)\u001b[0m\n\u001b[0;32m   2859\u001b[0m \u001b[38;5;28;01melse\u001b[39;00m:\n\u001b[0;32m   2860\u001b[0m     cnf \u001b[38;5;241m=\u001b[39m {}\n\u001b[1;32m-> 2861\u001b[0m \u001b[38;5;28;01mreturn\u001b[39;00m \u001b[38;5;28mself\u001b[39m\u001b[38;5;241m.\u001b[39mtk\u001b[38;5;241m.\u001b[39mgetint(\u001b[38;5;28mself\u001b[39m\u001b[38;5;241m.\u001b[39mtk\u001b[38;5;241m.\u001b[39mcall(\n\u001b[0;32m   2862\u001b[0m     \u001b[38;5;28mself\u001b[39m\u001b[38;5;241m.\u001b[39m_w, \u001b[38;5;124m'\u001b[39m\u001b[38;5;124mcreate\u001b[39m\u001b[38;5;124m'\u001b[39m, itemType,\n\u001b[0;32m   2863\u001b[0m     \u001b[38;5;241m*\u001b[39m(args \u001b[38;5;241m+\u001b[39m \u001b[38;5;28mself\u001b[39m\u001b[38;5;241m.\u001b[39m_options(cnf, kw))))\n",
      "\u001b[1;31mTclError\u001b[0m: image \"pyimage3\" doesn't exist"
     ]
    }
   ],
   "source": [
    "if __name__ == \"__main__\":\n",
    "    TBDetectionApp()"
   ]
  },
  {
   "cell_type": "code",
   "execution_count": null,
   "id": "7e15dcc4-5f2d-4464-bb6a-1b4d9ab7f0f5",
   "metadata": {},
   "outputs": [],
   "source": []
  }
 ],
 "metadata": {
  "kernelspec": {
   "display_name": "Python 3 (ipykernel)",
   "language": "python",
   "name": "python3"
  },
  "language_info": {
   "codemirror_mode": {
    "name": "ipython",
    "version": 3
   },
   "file_extension": ".py",
   "mimetype": "text/x-python",
   "name": "python",
   "nbconvert_exporter": "python",
   "pygments_lexer": "ipython3",
   "version": "3.12.7"
  }
 },
 "nbformat": 4,
 "nbformat_minor": 5
}
